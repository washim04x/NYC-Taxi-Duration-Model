{
 "cells": [
  {
   "cell_type": "code",
   "execution_count": 63,
   "id": "84307986",
   "metadata": {},
   "outputs": [],
   "source": [
    "import pandas as pd\n",
    "import xgboost as xgb\n",
    "from joblib import load\n",
    "import numpy as np\n",
    "model_path=\"models/model.joblib\"\n",
    "model = load(model_path)\n",
    "df=pd.read_csv(\"data/processed/train.csv\")"
   ]
  },
  {
   "cell_type": "code",
   "execution_count": 67,
   "id": "c56db3ce",
   "metadata": {},
   "outputs": [
    {
     "name": "stdout",
     "output_type": "stream",
     "text": [
      "prediction 25.25809085446501\n",
      "actual 1305285    26.616667\n",
      "89165      15.650000\n",
      "1279792    16.850000\n",
      "37383      21.183333\n",
      "1194876     5.583333\n",
      "731181     50.700000\n",
      "757457     18.283333\n",
      "1110630     8.766667\n",
      "686492     25.983333\n",
      "738879      7.016667\n",
      "Name: trip_duration, dtype: float64\n"
     ]
    }
   ],
   "source": [
    "list=np.random.randint(0,df.shape[0],10)\n",
    "x=df.iloc[list,:-1]\n",
    "y=df.iloc[list,-1]\n",
    "transformed_feature=xgb.DMatrix(x)\n",
    "prediction=model.predict(transformed_feature)[0].item()\n",
    "print(f\"prediction {np.exp(prediction)/60}\")\n",
    "print(f\"actual {y/60}\")"
   ]
  },
  {
   "cell_type": "code",
   "execution_count": null,
   "id": "396ff9ab",
   "metadata": {},
   "outputs": [],
   "source": []
  },
  {
   "cell_type": "code",
   "execution_count": null,
   "id": "8eb1161f",
   "metadata": {},
   "outputs": [
    {
     "name": "stdout",
     "output_type": "stream",
     "text": [
      "prediction 22.228169363366426\n",
      "actual 21.85\n"
     ]
    }
   ],
   "source": [
    "\n"
   ]
  },
  {
   "cell_type": "code",
   "execution_count": 36,
   "id": "c9eba8f1",
   "metadata": {},
   "outputs": [],
   "source": [
    "# temp=dict(zip(df.columns,df.iloc[10,:]))\n",
    "# for k,v in temp.items():\n",
    "#     print(f'\"{k}\": {v},')"
   ]
  },
  {
   "cell_type": "code",
   "execution_count": null,
   "id": "dabc891f",
   "metadata": {},
   "outputs": [],
   "source": []
  }
 ],
 "metadata": {
  "kernelspec": {
   "display_name": "Python 3",
   "language": "python",
   "name": "python3"
  },
  "language_info": {
   "codemirror_mode": {
    "name": "ipython",
    "version": 3
   },
   "file_extension": ".py",
   "mimetype": "text/x-python",
   "name": "python",
   "nbconvert_exporter": "python",
   "pygments_lexer": "ipython3",
   "version": "3.13.6"
  }
 },
 "nbformat": 4,
 "nbformat_minor": 5
}
